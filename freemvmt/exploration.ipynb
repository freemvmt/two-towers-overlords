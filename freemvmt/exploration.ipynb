{
 "cells": [
  {
   "cell_type": "code",
   "execution_count": 2,
   "id": "19f3429b",
   "metadata": {},
   "outputs": [
    {
     "name": "stderr",
     "output_type": "stream",
     "text": [
      "/home/dan/code/freemvmt/mlx/two-towers-overlords/freemvmt/.venv/lib/python3.12/site-packages/tqdm/auto.py:21: TqdmWarning: IProgress not found. Please update jupyter and ipywidgets. See https://ipywidgets.readthedocs.io/en/stable/user_install.html\n",
      "  from .autonotebook import tqdm as notebook_tqdm\n"
     ]
    },
    {
     "data": {
      "text/plain": [
       "Dataset({\n",
       "    features: ['answers', 'passages', 'query', 'query_id', 'query_type', 'wellFormedAnswers'],\n",
       "    num_rows: 82326\n",
       "})"
      ]
     },
     "execution_count": 2,
     "metadata": {},
     "output_type": "execute_result"
    }
   ],
   "source": [
    "# lets play with the MS MARCO dataset to get a feel for the Hugging Face class\n",
    "from datasets import load_dataset, Dataset\n",
    "dataset = load_dataset(\"microsoft/ms_marco\", \"v1.1\", split=\"train\")\n",
    "assert isinstance(dataset, Dataset)  # Runtime check\n",
    "type(dataset)\n",
    "dataset"
   ]
  },
  {
   "cell_type": "code",
   "execution_count": 3,
   "id": "b3624ade",
   "metadata": {},
   "outputs": [
    {
     "data": {
      "text/plain": [
       "82326"
      ]
     },
     "execution_count": 3,
     "metadata": {},
     "output_type": "execute_result"
    }
   ],
   "source": [
    "len(dataset)\n",
    "# 82326 i.e. if we use all passages, we have 823_260 (just under 1mn) query-passage pairs to turn into triplets and train on"
   ]
  },
  {
   "cell_type": "code",
   "execution_count": 4,
   "id": "36a32195",
   "metadata": {},
   "outputs": [
    {
     "data": {
      "text/plain": [
       "Dataset({\n",
       "    features: ['answers', 'passages', 'query', 'query_id', 'query_type', 'wellFormedAnswers'],\n",
       "    num_rows: 5\n",
       "})"
      ]
     },
     "execution_count": 4,
     "metadata": {},
     "output_type": "execute_result"
    }
   ],
   "source": [
    "dataset.select(range(5))"
   ]
  },
  {
   "cell_type": "code",
   "execution_count": 6,
   "id": "7ff75cec",
   "metadata": {},
   "outputs": [
    {
     "name": "stdout",
     "output_type": "stream",
     "text": [
      "what is rba\n",
      "Since 2007, the RBA's outstanding reputation has been affected by the 'Securency' or NPA scandal. These RBA subsidiaries were involved in bribing overseas officials so that Australia might win lucrative note-printing contracts. The assets of the bank include the gold and foreign exchange reserves of Australia, which is estimated to have a net worth of A$101 billion. Nearly 94% of the RBA's employees work at its headquarters in Sydney, New South Wales and at the Business Resumption Site.\n",
      "The Reserve Bank of Australia (RBA) came into being on 14 January 1960 as Australia 's central bank and banknote issuing authority, when the Reserve Bank Act 1959 removed the central banking functions from the Commonwealth Bank. The assets of the bank include the gold and foreign exchange reserves of Australia, which is estimated to have a net worth of A$101 billion. Nearly 94% of the RBA's employees work at its headquarters in Sydney, New South Wales and at the Business Resumption Site.\n",
      "RBA Recognized with the 2014 Microsoft US Regional Partner of the ... by PR Newswire. Contract Awarded for supply and support the. Securitisations System used for risk management and analysis. \n",
      "The inner workings of a rebuildable atomizer are surprisingly simple. The coil inside the RBA is made of some type of resistance wire, normally Kanthal or nichrome. When a current is applied to the coil (resistance wire), it heats up and the heated coil then vaporizes the eliquid. 1 The bottom feed RBA is, perhaps, the easiest of all RBA types to build, maintain, and use. 2  It is filled from below, much like bottom coil clearomizer. 3  Bottom feed RBAs can utilize cotton instead of silica for the wick. 4  The Genesis, or genny, is a top feed RBA that utilizes a short woven mesh wire.\n",
      "Results-Based Accountability® (also known as RBA) is a disciplined way of thinking and taking action that communities can use to improve the lives of children, youth, families, adults and the community as a whole. RBA is also used by organizations to improve the performance of their programs. RBA improves the lives of children, families, and communities and the performance of programs because RBA: 1  Gets from talk to action quickly; 2  Is a simple, common sense process that everyone can understand; 3  Helps groups to surface and challenge assumptions that can be barriers to innovation;\n",
      "Results-Based Accountability® (also known as RBA) is a disciplined way of thinking and taking action that communities can use to improve the lives of children, youth, families, adults and the community as a whole. RBA is also used by organizations to improve the performance of their programs. Creating Community Impact with RBA. Community impact focuses on conditions of well-being for children, families and the community as a whole that a group of leaders is working collectively to improve. For example: “Residents with good jobs,” “Children ready for school,” or “A safe and clean neighborhood”.\n",
      "RBA uses a data-driven, decision-making process to help communities and organizations get beyond talking about problems to taking action to solve problems. It is a simple, common sense framework that everyone can understand. RBA starts with ends and works backward, towards means. The “end” or difference you are trying to make looks slightly different if you are working on a broad community level or are focusing on your specific program or organization. RBA improves the lives of children, families, and communities and the performance of programs because RBA: 1  Gets from talk to action quickly; 2  Is a simple, common sense process that everyone can understand; 3  Helps groups to surface and challenge assumptions that can be barriers to innovation;\n",
      "vs. NetIQ Identity Manager. Risk-based authentication (RBA) is a method of applying varying levels of stringency to authentication processes based on the likelihood that access to a given system could result in its being compromised. Risk-based authentication can be categorized as either user-dependent or transaction-dependent. User-dependent RBA processes employ the same authentication for every session initiated by a given user; the exact credentials that the site demands depend on who the user is.\n",
      "A rebuildable atomizer (RBA), often referred to as simply a “rebuildable,” is just a special type of atomizer used in the Vape Pen and Mod Industry that connects to a personal vaporizer. 1 The bottom feed RBA is, perhaps, the easiest of all RBA types to build, maintain, and use. 2  It is filled from below, much like bottom coil clearomizer. 3  Bottom feed RBAs can utilize cotton instead of silica for the wick. 4  The Genesis, or genny, is a top feed RBA that utilizes a short woven mesh wire.\n",
      "Get To Know Us. RBA is a digital and technology consultancy with roots in strategy, design and technology. Our team of specialists help progressive companies deliver modern digital experiences backed by proven technology engineering. \n",
      "was ronald reagan a democrat\n",
      "In his younger years, Ronald Reagan was a member of the Democratic Party and campaigned for Democratic candidates; however, his views grew more conservative over time, and in the early 1960s he officially became a Republican. In November 1984, Ronald Reagan was reelected in a landslide, defeating Walter Mondale and his running mate Geraldine Ferraro (1935-), the first female vice-presidential candidate from a major U.S. political party.\n",
      "From Wikipedia, the free encyclopedia. A Reagan Democrat is a traditionally Democratic voter in the United States, especially a white working-class Northerner, who defected from their party to support Republican President Ronald Reagan in either or both the 1980 and 1984 elections. During the 1980 election a dramatic number of voters in the U.S., disillusioned with the economic 'malaise' of the 1970s and the presidency of Jimmy Carter (even more than, four years earlier, Liberal Republican Gerald Ford), supported former California governor (and former Democrat) Ronald Reagan.\n",
      "Ronald Reagan began his political life in the Democratic Party, but as he became more and more conservative, he ultimately changed to the Republican Party in the early 1960s. Yes, he switched parties in 1962. He said that he did not desert the Democrats but rather they deserted him. Yes, Ronald Reagan was a member of the Democratic Party until he s … witched to the Republican Party in 1962, at the age of 51. 8 people found this useful.\n",
      "Ronald Wilson Reagan (/ˈrɒnəld ˈwɪlsən ˈreɪɡən/ ; February 6, 1911 – June 5, 2004) was an American politician, commentator, and actor, who served as the 40th President of the United States from 1981 to 1989. I think Ronald Reagan changed the trajectory of America in a way that Richard Nixon did not and in a way that Bill Clinton did not. He put us on a fundamentally different path because the country was ready for it.\n",
      "When Reagan was a 'liberal Democrat'. In 1948, a very different sounding Ronald Reagan campaigned on the radio for Democrat Harry Truman. Listen to the old audio recording. ... more Duration: {{video.duration.momentjs}}. \n",
      "Ronald Reagan (1911-2004), a former actor and California governor, served as the 40th U.S. president from 1981 to 1989. Raised in small-town Illinois, he became a Hollywood actor in his 20s and later served as the Republican governor of California from 1967 to 1975. In November 1984, Ronald Reagan was reelected in a landslide, defeating Walter Mondale and his running mate Geraldine Ferraro (1935-), the first female vice-presidential candidate from a major U.S. political party.\n",
      "1984 Re-Election. In November 1984, Ronald Reagan was re-elected in a landslide, defeating Democratic challenger Walter Mondale. Reagan carried 49 of the 50 U.S. states in the election, and received 525 of 538 electoral votes—the largest number ever won by an American presidential candidate. \n",
      "how long do you need for sydney and surrounding areas\n",
      "Sydney, New South Wales, Australia is located in a coastal basin bordered by the Pacific Ocean to the east, the Blue Mountains to the west, the Hawkesbury River to the north and the Woronora Plateau to the south. The Sydney Statistical Division, used for census data, is the unofficial metropolitan area and covers 12,145 km² (4,689 mi²). This area includes the Central Coast and Blue Mountains as well as broad swathes of national park and other non-urban land.\n",
      "This itinerary will have you crossing the country to take in the Great Barrier Reef, Australia’s iconic reef in Queensland, before heading to Western Australia to see the breath taking Ningaloo Reef, one of Australia’s best kept secrets. View more information. 10 day-Sydney, rock and reef. It’s easy to see why Hamilton Island is one of the most popular spots for a getaway on the Great Barrier Reef. With palm-fringed beaches, top restaurants and stylish resorts, there’s plenty to do on land, while those keen to explore the clear waters of the Whitsundays will be richly rewarded.\n",
      "The Sydney central business district, Sydney harbour and outer suburbs from the West. North Sydney 's commercial district. The extensive area covered by urban Sydney is formally divided into more than 300 suburbs for addressing and postal purposes, and administered as 38 local government areas. The Sydney Statistical Division, used for census data, is the unofficial metropolitan area and covers 12,145 km² (4,689 mi²). This area includes the Central Coast and Blue Mountains as well as broad swathes of national park and other non-urban land.\n",
      "1 Taxis to the city centre should cost approximately $40 (including tolls), and more to other Sydney destinations (The Rocks $40-45, North Sydney $45, Manly $50, Parramatta $80-100 etc.) You can expect to pay a $3.80 airport taxi levy and a $5.50 Eastern Distributor toll on top of the metered fare. Newtown in Sydney's inner-west (approx 4km from the CBD) is renowned for its inexpensive cafes and restaurants on King St, in particular Thai food. It is highly popular among students from the nearby Sydney University.\n",
      "Sydney is the capital city of the Australian state of New South Wales, and Australia's largest city. A week in Sydney will help you see many of the sights of Sydney and its surrounds, and understand the city and its culture. If you're up for exploring the area by bike (one of the best ways to do so as much of it is parkland), take the train to Concord West station on the Northern Line (red line on the Sydney Trains map-about 20-25 minutes from the city on a direct train).\n",
      "Sydney Attractions. Sydney is home to some of Australia’s most iconic attractions. The Sydney Opera House is a thriving hub of art, culture and history. 1km (return) - 1.5 hour (each way)Step out of your car and into the past. This short walk, perfect for walking with children and for visitors with ties to the local area, pulls you back thro... http://www.nationalparks.nsw.gov.au/scheyville-national-park/migrant-heritage-walk/walking.\n",
      "Sydney lies on a submergent coastline, where the ocean level has risen to flood deep river valleys (rias) carved in the sandstone. There are more than 70 harbour and ocean beaches, including the famous Bondi Beach, in the urban area. Sydney's urban area covers 1,788 km² (690 mi²). The Sydney Statistical Division, used for census data, is the unofficial metropolitan area and covers 12,145 km² (4,689 mi²). This area includes the Central Coast and Blue Mountains as well as broad swathes of national park and other non-urban land.\n",
      "On your right across College Street, in the sandstone building on the corner, is the Australian Museum [3] ($12 adult/$6 children, $30 family (2+2)). This museum, which focuses on natural history, is worth a visit in its own right if you have more time in Sydney and will take a couple of hours to explore. If you're up for exploring the area by bike (one of the best ways to do so as much of it is parkland), take the train to Concord West station on the Northern Line (red line on the Sydney Trains map-about 20-25 minutes from the city on a direct train).\n",
      "The Rocks. This is a complete listing of the suburbs and localities in the greater Sydney area in alphabetical order. Sydney has about 38 local government areas, each consisting of several suburbs (suburbs in Australia are purely geographical, not political, divisions). See table below, Category:Suburbs of Sydney and Category:Local government areas in Sydney. Suburbs are listed here if they are inside the Sydney metro area, and are listed in the Geographical Names Register as being suburbs.\n",
      "Sydney is a very large city, and we haven't spent much time outside of the inner suburbs, apart from what you would have seen on the way to the Blue Mountains. On Day 5 we'll explore one of Sydney's parkland areas in the Sydney Olympic Park at Homebush Bay [63] . If you're up for exploring the area by bike (one of the best ways to do so as much of it is parkland), take the train to Concord West station on the Northern Line (red line on the Sydney Trains map-about 20-25 minutes from the city on a direct train).\n",
      "price to install tile in shower\n",
      "In regards to tile installation costs, consumers can expect to pay an average of $25 per square foot, depending on the grade of material that is used. For a medium-sized shower, the price can cost about $2,000. Tile installation materials include:\n",
      "1 Polished nickel faucets-Average cost is $400 each plus four hours of installation; 2  Install ceramic tile floor to match shower-Average prices for installation are between $11 to $22 per square foot; 3  A light/fan combination-Averages at $180 and one hour\n",
      "Enhancement and improvement costs. 1  Polished nickel faucets-Average cost is $400 each plus four hours of installation; 2  Install ceramic tile floor to match shower-Average prices for installation are between $11 to $22 per square foot; 3  A light/fan combination-Averages at $180 and one hour of installation; 4  Insulate and re-finish ceilings and 5  ... Painti\n",
      "Granite shower tile is available at an average of $3.49 per square foot to $6.99 per square foot. Polished stone wall tile comes in many choices, including pebble stone that costs about $10 per square foot and $12 per square foot for a smooth surface polished stone tile.\n",
      "1 Higher-end tile such as granite or marble is going to cost more than a standard ceramic tile. 2  On average, plan on spending anywhere from $2,500 to as much as $5,000 or more for a standard 3′ x 5′ shower. 3  Showers can widely vary in size, but most of the time the cost will be within this price range.\n",
      "Our free calculator uses recent, trusted data to estimate costs for your Bathroom Floor Tile Installation project. For a basic 120 square feet project in zip code 47474, the benchmark cost to Install Bathroom Floor Tile ranges between $9.53 - $13.80 per square foot* .\n",
      "The cost for a typical small bathroom remodel will range from about $4,000 to $12,000 with the average cost being about $8,000. Let’s look at how the costs breakout starting with the most basic remodel including a new toilet, shower, vanity & sink and tile.\n",
      "The national average for a new shower installation project, when performed by a capable contractor, is $2,689. At the low-end of the normal cost range, homeowners are paying $1,109, and at the high end of the average range they’re spending $2,459. More luxurious showers can cost in excess of $10,000 to install.\n",
      "1 Install ceramic tile floor to match shower-Average prices for installation are between $11 to $22 per square foot; 2  A light/fan combination-Averages at $180 and one hour of installation; 3  Insulate and re-finish ceilings and walls-Fiberglass wall insulation with R-30 value will cost $2.25 per square foot.\n",
      "why conversion observed in body\n",
      "Conclusions: In adult body CT, dose to an organ fully encompassed by the primary radiation beam can be estimated from CTDI vol using a protocol-independent conversion coefficient. However, fully encompassed organs only account for 50% ± 19% of k factor and 46% ± 24% of q factor. Dose received by partially encompassed organs is also substantial. To estimate effective dose and risk index from DLP, it is necessary to use conversion coefficients specific to the anatomical region examined.\n",
      "The brain uses loads and loads of energy which is a major challenge for your metabolism-the organ which uses most energy prefers to run on the fuel that can be stored worst. Fatty acids can be converted to ketones, which can partly power the brain. More about the brain later, it is not that simple.\n",
      "Conversion disorder is a type of somatoform disorder where physical symptoms or signs are present that cannot be explained by a medical condition. Very importantly, unlike factitious disorders and malingering, the symptoms of somatoform disorders are not intentional or under conscious control of the patient.\n",
      "Conversion disorder is a mental condition in which a person has blindness, paralysis, or other nervous system (neurologic) symptoms that cannot be explained by medical evaluation.\n",
      "Conversion disorder symptoms may appear suddenly after a stressful event or trauma, whether physical or psychological. Signs and symptoms that affect movement function may include: 1  Weakness or paralysis. 2  Abnormal movement, such as tremors or difficulty walking. 3  Loss of balance.\n",
      "Glucose. Glucose is a carbohydrate, and is the most important simple sugar in human metabolism. Glucose is called a simple sugar or a monosaccharide because it is one of the smallest units which has the characteristics of this class of carbohydrates. Glucose is also sometimes called dextrose. Corn syrup is primarily glucose.\n",
      "Sometimes people with conversion disorder have tremors or symptoms that resemble fainting spells or seizures * . There also may be loss of feeling in various parts of the body, or loss of the sense of smell, and symptoms may occur together.\n",
      "Glucose is a carbohydrate, and is the most important simple sugar in human metabolism. Glucose is called a simple sugar or a monosaccharide because it is one of the smallest units which has the characteristics of this class of carbohydrates. Glucose is also sometimes called dextrose. Corn syrup is primarily glucose.\n"
     ]
    }
   ],
   "source": [
    "# what is a passage?\n",
    "for record in dataset.select(range(5)):\n",
    "    print(record['query'])\n",
    "    for passage in record['passages']['passage_text']:\n",
    "        print(passage)"
   ]
  },
  {
   "cell_type": "code",
   "execution_count": null,
   "id": "58dc6577",
   "metadata": {},
   "outputs": [
    {
     "name": "stdout",
     "output_type": "stream",
     "text": [
      "Total passages: 676193\n",
      "Unique passages: 626907\n",
      "Passages that repeat: 33975\n",
      "Percentage of unique passages: 92.71%\n",
      "Max repetitions for a single passage: 42\n",
      "Average repetitions for repeated passages: 2.45\n"
     ]
    }
   ],
   "source": [
    "# check whether passages repeat across the dataset\n",
    "from collections import Counter\n",
    "\n",
    "# Extract all passages from the dataset\n",
    "all_passages = [p for record in dataset for p in record['passages']['passage_text']]\n",
    "\n",
    "# Find duplicates\n",
    "passage_counts = Counter(all_passages)\n",
    "repeated_passages = {passage: count for passage, count in passage_counts.items() if count > 1}\n",
    "\n",
    "print(f\"Total passages: {len(all_passages)}\")\n",
    "print(f\"Unique passages: {len(passage_counts)}\")\n",
    "print(f\"Passages that repeat: {len(repeated_passages)}\")\n",
    "print(f\"Percentage of unique passages: {len(passage_counts) / len(all_passages) * 100:.2f}%\")\n",
    "\n",
    "if repeated_passages:\n",
    "  repeat_counts = list(repeated_passages.values())\n",
    "  print(f\"Max repetitions for a single passage: {max(repeat_counts)}\")\n",
    "  print(f\"Average repetitions for repeated passages: {sum(repeat_counts) / len(repeat_counts):.2f}\")\n",
    "\n",
    "# repetition is not too egregious, suggesting it might be reasonable to grab in-batch negatives w/o too many checks"
   ]
  }
 ],
 "metadata": {
  "kernelspec": {
   "display_name": ".venv",
   "language": "python",
   "name": "python3"
  },
  "language_info": {
   "codemirror_mode": {
    "name": "ipython",
    "version": 3
   },
   "file_extension": ".py",
   "mimetype": "text/x-python",
   "name": "python",
   "nbconvert_exporter": "python",
   "pygments_lexer": "ipython3",
   "version": "3.12.8"
  }
 },
 "nbformat": 4,
 "nbformat_minor": 5
}
