{
 "cells": [
  {
   "cell_type": "code",
   "execution_count": null,
   "id": "19f3429b",
   "metadata": {},
   "outputs": [
    {
     "data": {
      "text/plain": [
       "Dataset({\n",
       "    features: ['answers', 'passages', 'query', 'query_id', 'query_type', 'wellFormedAnswers'],\n",
       "    num_rows: 82326\n",
       "})"
      ]
     },
     "execution_count": 13,
     "metadata": {},
     "output_type": "execute_result"
    }
   ],
   "source": [
    "# lets play with the MS MARCO dataset to get a feel for the Hugging Face class\n",
    "from datasets import load_dataset, Dataset\n",
    "dataset = load_dataset(\"microsoft/ms_marco\", \"v1.1\", split=\"train\")\n",
    "assert isinstance(dataset, Dataset)  # Runtime check\n",
    "type(dataset)\n",
    "dataset"
   ]
  },
  {
   "cell_type": "code",
   "execution_count": null,
   "id": "b3624ade",
   "metadata": {},
   "outputs": [
    {
     "data": {
      "text/plain": [
       "82326"
      ]
     },
     "execution_count": 17,
     "metadata": {},
     "output_type": "execute_result"
    }
   ],
   "source": [
    "len(dataset)\n",
    "# 82326 i.e. if we use all passages, we have 823_260 (just under 1mn) query-passage pairs to turn into triplets and train on"
   ]
  },
  {
   "cell_type": "code",
   "execution_count": 5,
   "id": "36a32195",
   "metadata": {},
   "outputs": [
    {
     "data": {
      "text/plain": [
       "Dataset({\n",
       "    features: ['answers', 'passages', 'query', 'query_id', 'query_type', 'wellFormedAnswers'],\n",
       "    num_rows: 5\n",
       "})"
      ]
     },
     "execution_count": 5,
     "metadata": {},
     "output_type": "execute_result"
    }
   ],
   "source": [
    "dataset.select(range(5))"
   ]
  },
  {
   "cell_type": "code",
   "execution_count": 7,
   "id": "58dc6577",
   "metadata": {},
   "outputs": [
    {
     "data": {
      "text/plain": [
       "True"
      ]
     },
     "execution_count": 7,
     "metadata": {},
     "output_type": "execute_result"
    }
   ],
   "source": [
    "# check whether passages repeat across the dataset\n",
    "from collections import Counter\n",
    "\n",
    "# Extract all passages from the dataset\n",
    "all_passages = [p for record in dataset for p in record['passages']['passage_text']]\n",
    "\n",
    "# Find duplicates\n",
    "passage_counts = Counter(all_passages)\n",
    "repeated_passages = {passage: count for passage, count in passage_counts.items() if count > 1}\n",
    "\n",
    "# Check if any passages repeat\n",
    "any_repeats = len(repeated_passages) > 0\n",
    "any_repeats"
   ]
  },
  {
   "cell_type": "code",
   "execution_count": null,
   "id": "fffb9db5",
   "metadata": {},
   "outputs": [],
   "source": []
  }
 ],
 "metadata": {
  "kernelspec": {
   "display_name": ".venv",
   "language": "python",
   "name": "python3"
  },
  "language_info": {
   "codemirror_mode": {
    "name": "ipython",
    "version": 3
   },
   "file_extension": ".py",
   "mimetype": "text/x-python",
   "name": "python",
   "nbconvert_exporter": "python",
   "pygments_lexer": "ipython3",
   "version": "3.12.8"
  }
 },
 "nbformat": 4,
 "nbformat_minor": 5
}
